{
 "cells": [
  {
   "cell_type": "markdown",
   "metadata": {},
   "source": [
    "# PJ01: Choose Your Own Analysis\n",
    "In this project, I will be using python to help me parse and alayze a set of data to test a hypothesis and reach a conclusion.\n",
    "\n",
    "# My Hypothesis: Students in synchronous sections of the class prefer that the class includes synchronous live lectures and require attendance.\n",
    "I'm taking this question off the suggested questions from the project instruction page, because I think it's a really interesting topic especially with the recent switch to online learning spaces over the past couple of years. I personally tend to prefer synchronous sections myself when I can get them, and I think having live lectures is more engaging and easier to follow than virtual ones, so I assume that logic would apply to other students as well, especially in a class where students are given the choice between synchronous and asynchronous sections.\n",
    "\n",
    "That being said, this is merely a hypothesis, and now it is time to test that hypothesis and reach a data-supported conclusion. To begin, I'll implement a special cell that automatically reloads any changes I make and save in modules I import. This is a section of code provided to us both in the last exercise and in the project instructions. The special conventions in the cell below are turning this feature on. Also included in this cell is the author string."
   ]
  },
  {
   "cell_type": "code",
   "execution_count": 2,
   "metadata": {},
   "outputs": [
    {
     "name": "stdout",
     "output_type": "stream",
     "text": [
      "Autoreload of imported modules enabled. Be sure to save your work in other modules!\n"
     ]
    }
   ],
   "source": [
    "__author__ = \"730312274\"\n",
    "\n",
    "%reload_ext autoreload\n",
    "%autoreload 2\n",
    "print(\"Autoreload of imported modules enabled. Be sure to save your work in other modules!\")"
   ]
  },
  {
   "cell_type": "markdown",
   "metadata": {},
   "source": [
    "Next, I will import the data I will be using to test this hypothesis and turning it into a column-oriented table so I can work with it."
   ]
  },
  {
   "cell_type": "code",
   "execution_count": 3,
   "metadata": {},
   "outputs": [],
   "source": [
    "from data_utils import read_csv_rows, columnar\n",
    "\n",
    "data_rows: list[dict[str, str]] = read_csv_rows('../../data/survey.csv')\n",
    "columns: dict[str, list[str]] = columnar(data_rows)"
   ]
  },
  {
   "cell_type": "markdown",
   "metadata": {},
   "source": [
    "# Next, I'm going to select the relevant columns of the datasets for this hypothesis: section, and all_sync.\n",
    "I'll the display the first five rows of each of those columns. This will also use the tabulate function we learned about in the previous exercise to help display the data in a neatly-presented table."
   ]
  },
  {
   "cell_type": "code",
   "execution_count": 4,
   "metadata": {},
   "outputs": [
    {
     "data": {
      "text/html": [
       "<table>\n",
       "<thead>\n",
       "<tr><th>section  </th><th style=\"text-align: right;\">  all_sync</th></tr>\n",
       "</thead>\n",
       "<tbody>\n",
       "<tr><td>In-Person</td><td style=\"text-align: right;\">         2</td></tr>\n",
       "<tr><td>In-Person</td><td style=\"text-align: right;\">         4</td></tr>\n",
       "<tr><td>Remote   </td><td style=\"text-align: right;\">         1</td></tr>\n",
       "<tr><td>         </td><td style=\"text-align: right;\">         1</td></tr>\n",
       "<tr><td>Remote   </td><td style=\"text-align: right;\">         1</td></tr>\n",
       "</tbody>\n",
       "</table>"
      ],
      "text/plain": [
       "'<table>\\n<thead>\\n<tr><th>section  </th><th style=\"text-align: right;\">  all_sync</th></tr>\\n</thead>\\n<tbody>\\n<tr><td>In-Person</td><td style=\"text-align: right;\">         2</td></tr>\\n<tr><td>In-Person</td><td style=\"text-align: right;\">         4</td></tr>\\n<tr><td>Remote   </td><td style=\"text-align: right;\">         1</td></tr>\\n<tr><td>         </td><td style=\"text-align: right;\">         1</td></tr>\\n<tr><td>Remote   </td><td style=\"text-align: right;\">         1</td></tr>\\n</tbody>\\n</table>'"
      ]
     },
     "execution_count": 4,
     "metadata": {},
     "output_type": "execute_result"
    }
   ],
   "source": [
    "from data_utils import head, select\n",
    "from tabulate import tabulate\n",
    "subset: dict[str, list[str]] = select(columns, [\"section\", \"all_sync\"])\n",
    "tabulate(head(subset, 5), subset.keys(), \"html\")"
   ]
  },
  {
   "cell_type": "markdown",
   "metadata": {},
   "source": [
    "# For the sake of interest, I am also going to count responses to see how many students are in in-person sections and how many students are in remote sections.\n",
    "While these figures will have no direct usage in the analysis of the hypothesis, as I will be using the average rating among students from each section to determine how much students in each section prefer the classes be required, in-person, and synchronous, it is worth noting that if one section has many more students than the other, each student's individual rating will have more weight for their section's average in whichever section is smaller."
   ]
  },
  {
   "cell_type": "code",
   "execution_count": 5,
   "metadata": {},
   "outputs": [
    {
     "name": "stdout",
     "output_type": "stream",
     "text": [
      "350 people attend in-person sections.\n",
      "192 people attend remote sections.\n"
     ]
    }
   ],
   "source": [
    "from data_utils import count\n",
    "sync_count: dict[str, int] = count(subset[\"section\"])\n",
    "print(f\"{sync_count['In-Person']} people attend in-person sections.\")\n",
    "print(f\"{sync_count['Remote']} people attend remote sections.\")"
   ]
  },
  {
   "cell_type": "markdown",
   "metadata": {},
   "source": [
    "# Next, I will filter through the section data to create a couple \"masks\" that separate students taking the class in person, those taking it remotely, and those that did not respond to the section question in the survey.\n",
    "This was accomplished using a function to create \"masks\" of True/False boolean values, based on collumn-oritented filtering that was taught in a recent class lesson. `mask_in_person` is a list of booleans that is only True when the respondent answered that they are taking the class In-Person. `mask_remote` is a list of booleans that is only True when the respondent answered that they are taking the class Remote. \n",
    "\n",
    "Note that if a person did not answer the `section` part of the survey, neither list finds it True. These data points were intentionally excluded because there is no way to determine whether or not the respondent was taking the class In-Person or Remote. \n",
    "\n",
    "Only the first 5 values of each of the \"masks\" is being displayed here through the use of a head function I created specifically for boolean lists."
   ]
  },
  {
   "cell_type": "code",
   "execution_count": 6,
   "metadata": {},
   "outputs": [
    {
     "name": "stdout",
     "output_type": "stream",
     "text": [
      "[True, True, False, False, False]\n",
      "[False, False, True, False, True]\n"
     ]
    }
   ],
   "source": [
    "from data_utils import maskmake, boollisthead\n",
    "mask_in_person: list[bool] = maskmake(subset, \"section\", \"In-Person\")\n",
    "mask_remote: list[bool] = maskmake(subset, \"section\", \"Remote\")\n",
    "print(boollisthead(mask_in_person, 5))\n",
    "print(boollisthead(mask_remote, 5))"
   ]
  },
  {
   "cell_type": "markdown",
   "metadata": {},
   "source": [
    "# Using the \"masks\" created in the previous step, I can grab the all_sync ratings filtered for just those in an in-person section and just those taking in a remote section.\n",
    "This was accomplished using a function that filters the data in a specified column of column-oriented data based on the mask created previously. `in_person_ratings` is the list of all the ratings made by those in in-person sections. `remote_ratings` is the list of all the ratings made by those in remote sections.\n",
    "\n",
    "Like above, only the first five values of these ratings lists are being displayed, accomplished using another head function I created, this one specifically for string lists, since all the ratings are in the form of strings despite being numbers."
   ]
  },
  {
   "cell_type": "code",
   "execution_count": 7,
   "metadata": {},
   "outputs": [
    {
     "name": "stdout",
     "output_type": "stream",
     "text": [
      "['2', '4', '4', '1', '1']\n",
      "['1', '1', '3', '2', '1']\n"
     ]
    }
   ],
   "source": [
    "from data_utils import maskuser, strlisthead\n",
    "in_person_ratings: list[str] = maskuser(subset, mask_in_person, \"all_sync\")\n",
    "remote_ratings: list[str] = maskuser(subset, mask_remote, \"all_sync\")\n",
    "print(strlisthead(in_person_ratings, 5))\n",
    "print(strlisthead(remote_ratings, 5))"
   ]
  },
  {
   "cell_type": "markdown",
   "metadata": {},
   "source": [
    "# In order to work with the data from the ratings lists, they must first be converted from strings into integers.\n",
    "This is accomplished using a function that produces a list of integers based on a list of strings using the `int()` function.\n",
    "\n",
    "Like above, only the first five values of these integer lists are being displayed, accomplished using another head function I created, this one specifically for integer lists."
   ]
  },
  {
   "cell_type": "code",
   "execution_count": 8,
   "metadata": {},
   "outputs": [
    {
     "name": "stdout",
     "output_type": "stream",
     "text": [
      "[2, 4, 4, 1, 1]\n",
      "[1, 1, 3, 2, 1]\n"
     ]
    }
   ],
   "source": [
    "from data_utils import intconverter, intlisthead\n",
    "in_person_ratings_int: list[int] = intconverter(in_person_ratings)\n",
    "remote_ratings_int: list[int] = intconverter(remote_ratings)\n",
    "print(intlisthead(in_person_ratings_int, 5))\n",
    "print(intlisthead(remote_ratings_int, 5))"
   ]
  },
  {
   "cell_type": "markdown",
   "metadata": {},
   "source": [
    "# Using these filtered all-sync ratings, I can compare the average rating of those in in-person sections to those in remote sections. The higher the average, the more a group prefers synchronous in-person sections with required attendance."
   ]
  },
  {
   "cell_type": "code",
   "execution_count": 9,
   "metadata": {},
   "outputs": [
    {
     "name": "stdout",
     "output_type": "stream",
     "text": [
      "The average rating of students in in-person sections is 3.2742857142857145.\n",
      "The average rating of students in remote sections is 3.5260416666666665.\n"
     ]
    }
   ],
   "source": [
    "from data_utils import averagemachine\n",
    "in_person_average: float = averagemachine(in_person_ratings_int)\n",
    "remote_average: float = averagemachine(remote_ratings_int)\n",
    "print(f\"The average rating of students in in-person sections is {in_person_average}.\")\n",
    "print(f\"The average rating of students in remote sections is {remote_average}.\")"
   ]
  },
  {
   "cell_type": "markdown",
   "metadata": {},
   "source": [
    "# In addition to the averages, here's a double-bar graph showing specifically how many students in each section gave each rating.\n",
    "These graphs were generated using a count function specifically for counting lists of integers. The dictionaries that count function produces were thrown into 3rd party functions that were demonstrated at the end of `data_wrangling.ipynb` which was included as part of the last exercise."
   ]
  },
  {
   "cell_type": "code",
   "execution_count": 10,
   "metadata": {},
   "outputs": [
    {
     "data": {
      "text/plain": [
       "<BarContainer object of 7 artists>"
      ]
     },
     "execution_count": 10,
     "metadata": {},
     "output_type": "execute_result"
    },
    {
     "data": {
      "image/png": "[encoded data removed]",
      "text/plain": [
       "<Figure size 864x360 with 2 Axes>"
      ]
     },
     "metadata": {
      "needs_background": "light"
     },
     "output_type": "display_data"
    }
   ],
   "source": [
    "from matplotlib import pyplot as plt\n",
    "from data_utils import intcount\n",
    "\n",
    "inperson_count: dict[int, int] = intcount(in_person_ratings_int)\n",
    "remote_count: dict[int, int] = intcount(remote_ratings_int)\n",
    "\n",
    "fig, axes = plt.subplots(1, 2, figsize=(12, 5), sharey=True)\n",
    "fig.suptitle(\"Number of Each Rating Given by Each Class Section\")\n",
    "\n",
    "\n",
    "axes[0].set_title(\"By In-Person Sections\")\n",
    "axes[0].bar(inperson_count.keys(), inperson_count.values())\n",
    "\n",
    "axes[1].set_title(\"By Remote Sections\")\n",
    "axes[1].bar(remote_count.keys(), remote_count.values())"
   ]
  },
  {
   "cell_type": "markdown",
   "metadata": {},
   "source": [
    "# Conclusion\n",
    "Overall, it appears that being in an in-person section or a remote section has little-to-no affect on whether a student prefers that the class includes synchronous live lectures and require attendance. The average rating among both in-person and remote sections was similar, and it appears remote sections slightly favor mandatory in-person live lectures over in-person sections. \n",
    "\n",
    "If the section does have an affect on whether a student believes the class should have required in-person live sections, the extra favor that remote sections have compared to in-person sections may be caused by those in remote classes being forced to take the class remote due to the pandemic, and those students eager to get back on to campus and thus prefer in-person learning to remote learning. However, the diference between the average rating of students in-person and the average rating of students remote seems negligable, and it would be interesting to run this experiment yearly to see if the results change as the pandemic ends and other classes go back to a traditional in-person schedule. \n",
    "\n",
    "It is also worth noting that there are many more students attending in-person sections than remote sections, so the individual ratings of students in remote sections had more weighting on their average than the ratings of in-person students had on their's. Thus, outliers in the remote section ratings may have skewed the rating more than those in the in-person dataset. That being said, however, looking at the visual bar graph representation of how members of each section rated, they both follow a similar trend/shape in how people voted to each rating, further supporting the idea that class section had little effect on rating.\n",
    "\n",
    "I am inclined to conclude based on the data given to me that the style of COMP-110 class has no significant affect on whether or not a student prefers COMP-110 have required, synchronous, live, in-person sections, and thus my hypothesis from the beginning is not supported."
   ]
  }
 ],
 "metadata": {
  "interpreter": {
   "hash": "6fbb7d7f14002f179cce7d71150d327e13de5c4fe24fe7c1b5a67b968e5e4d06"
  },
  "kernelspec": {
   "display_name": "Python 3.9.6 64-bit",
   "name": "python3"
  },
  "language_info": {
   "codemirror_mode": {
    "name": "ipython",
    "version": 3
   },
   "file_extension": ".py",
   "mimetype": "text/x-python",
   "name": "python",
   "nbconvert_exporter": "python",
   "pygments_lexer": "ipython3",
   "version": "3.9.6"
  },
  "orig_nbformat": 4
 },
 "nbformat": 4,
 "nbformat_minor": 2
}
